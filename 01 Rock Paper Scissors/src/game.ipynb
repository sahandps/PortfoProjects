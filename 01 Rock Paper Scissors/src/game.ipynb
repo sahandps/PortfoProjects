{
 "cells": [
  {
   "cell_type": "code",
   "execution_count": 2,
   "id": "a76af5ef",
   "metadata": {},
   "outputs": [],
   "source": [
    "def user_input():\n",
    "    while True:\n",
    "        user_input = input(\"Enter only letters: \")\n",
    "        if user_input in [\"r\", \"s\", \"p\", \"q\"]:\n",
    "            return user_input\n",
    "            break\n",
    "        print(\"Invalid entry. Please use letters only.\")\n"
   ]
  },
  {
   "cell_type": "code",
   "execution_count": 4,
   "id": "ac5c7eef",
   "metadata": {},
   "outputs": [],
   "source": [
    "import random\n",
    "def pc_opponent():\n",
    "    weapon_list = [\"r\", \"s\", \"p\"]\n",
    "    return random.choice(weapon_list)"
   ]
  },
  {
   "cell_type": "code",
   "execution_count": null,
   "id": "9edf9ebe",
   "metadata": {},
   "outputs": [],
   "source": [
    "def score_system(user_input, pc_input):\n",
    "    if user_input == pc_input:\n",
    "        return \"Tie\"\n",
    "    elif (user_input == \"r\" and pc_input == \"s\") or \\\n",
    "         (user_input == \"s\" and pc_input == \"p\") or \\\n",
    "         (user_input == \"p\" and pc_input == \"r\"):\n",
    "        return \"User wins\"\n",
    "    else:\n",
    "        return \"PC wins\""
   ]
  },
  {
   "cell_type": "code",
   "execution_count": null,
   "id": "9a2d2d4c",
   "metadata": {},
   "outputs": [
    {
     "data": {
      "text/plain": [
       "'p'"
      ]
     },
     "execution_count": 12,
     "metadata": {},
     "output_type": "execute_result"
    }
   ],
   "source": []
  }
 ],
 "metadata": {
  "kernelspec": {
   "display_name": "Python 3",
   "language": "python",
   "name": "python3"
  },
  "language_info": {
   "codemirror_mode": {
    "name": "ipython",
    "version": 3
   },
   "file_extension": ".py",
   "mimetype": "text/x-python",
   "name": "python",
   "nbconvert_exporter": "python",
   "pygments_lexer": "ipython3",
   "version": "3.13.1"
  }
 },
 "nbformat": 4,
 "nbformat_minor": 5
}
