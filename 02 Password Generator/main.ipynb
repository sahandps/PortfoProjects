{
 "cells": [
  {
   "cell_type": "markdown",
   "id": "c4c86f52",
   "metadata": {},
   "source": [
    "- parent: PasswordGenerator\n",
    "    - Abstract\n",
    "    - Methods\n",
    "- RandomPasswordGenerator\n",
    "- MemorablePasswordGenerato\n",
    "- PinGenerato     "
   ]
  },
  {
   "cell_type": "code",
   "execution_count": 4,
   "id": "6ceb91e2",
   "metadata": {},
   "outputs": [],
   "source": [
    "from abc import ABC, abstractmethod\n",
    "\n",
    "class PasswordGenerator(ABC):\n",
    "    @abstractmethod\n",
    "    def generate(self):\n",
    "        pass\n"
   ]
  },
  {
   "cell_type": "code",
   "execution_count": null,
   "id": "9bc7dac0",
   "metadata": {},
   "outputs": [],
   "source": [
    "import string \n",
    "import random\n",
    "\n",
    "class PinGenerator(PasswordGenerator):\n",
    "    def __init__(self, length: int):\n",
    "        self.length = length\n",
    "\n",
    "    def generate(self)-> str:\n",
    "        return \"\".join([random.choice(string.digits)for _ in range(self.length)])"
   ]
  },
  {
   "cell_type": "code",
   "execution_count": 18,
   "id": "de10442e",
   "metadata": {},
   "outputs": [],
   "source": [
    "import string \n",
    "import random\n",
    "\n",
    "class RandomPasswordGenerator(PasswordGenerator):\n",
    "    def __init__(self, length: int, include_numbers: bool, include_symbols: bool):\n",
    "        self.length = length\n",
    "        self.charachter = string.ascii_letters\n",
    "        if include_numbers:\n",
    "            self.charachter += string.digits\n",
    "        if include_symbols:\n",
    "            self.charachter += string.punctuation    \n",
    "\n",
    "\n",
    "    def generate(self)-> str:\n",
    "        return \"\".join([random.choice(self.charachter)for _ in range(self.length)])"
   ]
  },
  {
   "cell_type": "code",
   "execution_count": null,
   "id": "8509185f",
   "metadata": {},
   "outputs": [],
   "source": [
    "import random\n",
    "import nltk\n",
    "\n",
    "class MemorablePasswordGenerator(PasswordGenerator):\n",
    "    def __init__(self, num_of_words: int, separator: str = \"-\", capitalization: bool = False ):\n",
    "        pass\n",
    "\n",
    "    def generate(self):\n",
    "        pass"
   ]
  }
 ],
 "metadata": {
  "kernelspec": {
   "display_name": "Python 3",
   "language": "python",
   "name": "python3"
  },
  "language_info": {
   "codemirror_mode": {
    "name": "ipython",
    "version": 3
   },
   "file_extension": ".py",
   "mimetype": "text/x-python",
   "name": "python",
   "nbconvert_exporter": "python",
   "pygments_lexer": "ipython3",
   "version": "3.13.1"
  }
 },
 "nbformat": 4,
 "nbformat_minor": 5
}
