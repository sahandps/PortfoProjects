{
 "cells": [
  {
   "cell_type": "code",
   "execution_count": 35,
   "id": "c7479ced",
   "metadata": {},
   "outputs": [],
   "source": [
    "n = 44\n",
    "def is_happy(n):\n",
    "    seen_numbers= set()\n",
    "    while (n != 1) and (n not in seen_numbers):\n",
    "        seen_numbers.add(n)\n",
    "        n = sum([int(i) ** 2 for i in str(n)])\n",
    "    return n == 1    \n",
    "        "
   ]
  },
  {
   "cell_type": "code",
   "execution_count": 36,
   "id": "59ef9783",
   "metadata": {},
   "outputs": [
    {
     "data": {
      "text/plain": [
       "True"
      ]
     },
     "execution_count": 36,
     "metadata": {},
     "output_type": "execute_result"
    }
   ],
   "source": [
    "is_happy(n)"
   ]
  }
 ],
 "metadata": {
  "kernelspec": {
   "display_name": "Python 3",
   "language": "python",
   "name": "python3"
  },
  "language_info": {
   "codemirror_mode": {
    "name": "ipython",
    "version": 3
   },
   "file_extension": ".py",
   "mimetype": "text/x-python",
   "name": "python",
   "nbconvert_exporter": "python",
   "pygments_lexer": "ipython3",
   "version": "3.9.6"
  }
 },
 "nbformat": 4,
 "nbformat_minor": 5
}
