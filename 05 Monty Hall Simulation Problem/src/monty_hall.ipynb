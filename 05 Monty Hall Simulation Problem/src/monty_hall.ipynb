{
 "cells": [
  {
   "cell_type": "code",
   "execution_count": 58,
   "id": "11fb058c",
   "metadata": {},
   "outputs": [],
   "source": [
    "# monty_hall_game(switch_doors)\n"
   ]
  },
  {
   "cell_type": "code",
   "execution_count": null,
   "id": "36b57fa4",
   "metadata": {},
   "outputs": [],
   "source": [
    "import random\n",
    "\n",
    "def monty_hall_game(switch_doors):\n",
    "    doors = [\"car\", \"goat\", \"goat\"]\n",
    "    random.shuffle(doors)\n",
    "\n",
    "    initial_choice = random.choice(range(3))\n",
    "\n",
    "    if switch_doors:\n",
    "        doors_revealed = [i for i in range(3) if i != initial_choice and doors[i] == \"goat\"]\n",
    "        door_revealed = random.choice(doors_revealed)\n",
    "        final_choice = [i for i in range(3) if i != initial_choice and i != door_revealed] [0]\n",
    "    else:\n",
    "        final_choice = initial_choice\n",
    "\n",
    "    return doors[final_choice] == \"car\"   "
   ]
  },
  {
   "cell_type": "code",
   "execution_count": 80,
   "id": "234c29f7",
   "metadata": {},
   "outputs": [],
   "source": [
    "def simulate_game(num_games):\n",
    "    num_wins_without_switching = sum([monty_hall_game(False) for _ in range(num_games)])\n",
    "    num_wins_with_switching = sum([monty_hall_game(True) for _ in range(num_games)])\n",
    "    return num_wins_without_switching / num_games , num_wins_with_switching / num_games"
   ]
  },
  {
   "cell_type": "code",
   "execution_count": 108,
   "id": "c8213c0a",
   "metadata": {},
   "outputs": [
    {
     "data": {
      "text/plain": [
       "(0.1, 0.6)"
      ]
     },
     "execution_count": 108,
     "metadata": {},
     "output_type": "execute_result"
    }
   ],
   "source": [
    "simulate_game(10)"
   ]
  }
 ],
 "metadata": {
  "kernelspec": {
   "display_name": "Python 3",
   "language": "python",
   "name": "python3"
  },
  "language_info": {
   "codemirror_mode": {
    "name": "ipython",
    "version": 3
   },
   "file_extension": ".py",
   "mimetype": "text/x-python",
   "name": "python",
   "nbconvert_exporter": "python",
   "pygments_lexer": "ipython3",
   "version": "3.13.6"
  }
 },
 "nbformat": 4,
 "nbformat_minor": 5
}
