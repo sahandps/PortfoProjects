{
 "cells": [
  {
   "cell_type": "markdown",
   "id": "dc9b28b1",
   "metadata": {},
   "source": [
    "- contactBook\n",
    "- Methods: \n",
    "    - add contact (create)\n",
    "    - view_contact(read)\n",
    "    - update_contact(update)\n",
    "    - delete_contact(delete)"
   ]
  },
  {
   "cell_type": "code",
   "execution_count": null,
   "id": "9c85df55",
   "metadata": {},
   "outputs": [],
   "source": [
    "from collections import defaultdict\n",
    "class ContactBook:\n",
    "    def __init__(self):\n",
    "        self.contacts = defaultdict(dict)\n",
    "    \n",
    "    def add_contact(self, name, phone, email=None):\n",
    "        if name in self.contacts:\n",
    "            print(\"Contact Already Exists!\")\n",
    "            return\n",
    "\n",
    "        self.contacts[name] [\"phone\"] = phone\n",
    "        self.contacts[name][\"email\"] = email       \n",
    "\n",
    "    def view_contacts(self):\n",
    "        for name, info in self.contacts.items():\n",
    "            print(f\"name: {name}\")\n",
    "            print(f\"Phone: {info['phone']}\")\n",
    "            print(f\"email: {info['email']}\")\n",
    "            print(\"_\" * 50)\n",
    "\n",
    "    def delete_contact(self, name):\n",
    "        if name in self.contacts:\n",
    "            del self.contacts[name]\n",
    "            print(\"Contact deleted succesfully\")\n",
    "        else:\n",
    "            print(\"Contact not found\")    \n",
    "\n",
    "    def update_contact(self, name, phone=None, email=None):\n",
    "        if name in self.contacts:\n",
    "            if phone:\n",
    "                self.contacts[name] [\"phone\"] = phone\n",
    "                self.contacts[name] [\"email\"] = email\n",
    "\n",
    "        else:\n",
    "            print(\"Contact Not found\")  \n",
    "    \n",
    "\n"
   ]
  },
  {
   "cell_type": "code",
   "execution_count": null,
   "id": "384b5010",
   "metadata": {},
   "outputs": [],
   "source": [
    "book = ContactBook()\n",
    "\n",
    "while True:\n",
    "    print(\"Welcome to contact book app\")\n",
    "    print"
   ]
  },
  {
   "cell_type": "code",
   "execution_count": 61,
   "id": "bb224b9b",
   "metadata": {},
   "outputs": [],
   "source": [
    "book = ContactBook()"
   ]
  },
  {
   "cell_type": "code",
   "execution_count": 62,
   "id": "7f8bfecd",
   "metadata": {},
   "outputs": [
    {
     "name": "stdout",
     "output_type": "stream",
     "text": [
      "Contact not found\n"
     ]
    }
   ],
   "source": [
    "book.delete_contact(\"Ali\")"
   ]
  },
  {
   "cell_type": "code",
   "execution_count": 63,
   "id": "67057a0c",
   "metadata": {},
   "outputs": [],
   "source": [
    "book.add_contact(\n",
    "    name = \"Ali\",\n",
    "    phone = \"1234567\",\n",
    "    email = \"sahand.prs@gmail.com\"\n",
    ")"
   ]
  },
  {
   "cell_type": "code",
   "execution_count": 67,
   "id": "0b43107b",
   "metadata": {},
   "outputs": [
    {
     "name": "stdout",
     "output_type": "stream",
     "text": [
      "name: Ali\n",
      "Phone: 9876\n",
      "email: None\n",
      "__________________________________________________\n"
     ]
    }
   ],
   "source": [
    "book.view_contacts()"
   ]
  },
  {
   "cell_type": "code",
   "execution_count": 66,
   "id": "8d5f13e4",
   "metadata": {},
   "outputs": [],
   "source": [
    "book.update_contact(\n",
    "    name = \"Ali\",\n",
    "    phone = \"9876\"\n",
    ")"
   ]
  }
 ],
 "metadata": {
  "kernelspec": {
   "display_name": "Python 3",
   "language": "python",
   "name": "python3"
  },
  "language_info": {
   "codemirror_mode": {
    "name": "ipython",
    "version": 3
   },
   "file_extension": ".py",
   "mimetype": "text/x-python",
   "name": "python",
   "nbconvert_exporter": "python",
   "pygments_lexer": "ipython3",
   "version": "3.9.6"
  }
 },
 "nbformat": 4,
 "nbformat_minor": 5
}
