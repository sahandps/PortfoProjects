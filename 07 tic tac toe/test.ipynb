{
 "cells": [
  {
   "cell_type": "markdown",
   "id": "c9905ba5",
   "metadata": {},
   "source": [
    "- TicTacToe\n",
    "- __init__\n",
    "- Get_random_first_player\n",
    "- fix_spot: mark board\n",
    "- has_player_won(self, player)\n",
    "- is_board_filled\n",
    "- Swap_player_turn\n",
    "- show_board"
   ]
  },
  {
   "cell_type": "code",
   "execution_count": 9,
   "id": "d43b558e",
   "metadata": {},
   "outputs": [],
   "source": [
    "import random\n",
    "\n",
    "class TicTacToe:\n",
    "    def __init__(self):\n",
    "        self.board = [\" \"] * 10 # 0th index is not used\n",
    "        self.player_turn = \"X\"\n",
    "\n",
    "    def get_random_first_player(self):\n",
    "        return random.choice([\"X\", \"O\"])  \n",
    "\n",
    "    def show_board(self):\n",
    "        print(\"\\n\")\n",
    "        rows = [[self.board[i+j] for i in range(1, 4)] for j in range(0, 7, 3)]\n",
    "        for row in rows:\n",
    "            print(row)\n",
    "        print(\"\\n\")"
   ]
  },
  {
   "cell_type": "code",
   "execution_count": 10,
   "id": "a9640aa8",
   "metadata": {},
   "outputs": [],
   "source": [
    "game = TicTacToe()"
   ]
  },
  {
   "cell_type": "code",
   "execution_count": 11,
   "id": "3f7109d5",
   "metadata": {},
   "outputs": [
    {
     "name": "stdout",
     "output_type": "stream",
     "text": [
      "\n",
      "\n",
      "[' ', ' ', ' ']\n",
      "[' ', ' ', ' ']\n",
      "[' ', ' ', ' ']\n",
      "\n",
      "\n"
     ]
    }
   ],
   "source": [
    "game.show_board()"
   ]
  }
 ],
 "metadata": {
  "kernelspec": {
   "display_name": "Python 3",
   "language": "python",
   "name": "python3"
  },
  "language_info": {
   "codemirror_mode": {
    "name": "ipython",
    "version": 3
   },
   "file_extension": ".py",
   "mimetype": "text/x-python",
   "name": "python",
   "nbconvert_exporter": "python",
   "pygments_lexer": "ipython3",
   "version": "3.9.6"
  }
 },
 "nbformat": 4,
 "nbformat_minor": 5
}
