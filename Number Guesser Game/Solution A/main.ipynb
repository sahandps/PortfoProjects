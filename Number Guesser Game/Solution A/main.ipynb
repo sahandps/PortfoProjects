{
 "cells": [
  {
   "cell_type": "code",
   "execution_count": 24,
   "id": "a88556c5",
   "metadata": {},
   "outputs": [],
   "source": [
    "import random"
   ]
  },
  {
   "cell_type": "code",
   "execution_count": 37,
   "id": "3fbd9487",
   "metadata": {},
   "outputs": [],
   "source": [
    "rand_num = random.randint(1,100)"
   ]
  },
  {
   "cell_type": "code",
   "execution_count": 38,
   "id": "b2b62db2",
   "metadata": {},
   "outputs": [
    {
     "data": {
      "text/plain": [
       "46"
      ]
     },
     "execution_count": 38,
     "metadata": {},
     "output_type": "execute_result"
    }
   ],
   "source": [
    "rand_num"
   ]
  },
  {
   "cell_type": "code",
   "execution_count": null,
   "id": "efe30251",
   "metadata": {},
   "outputs": [],
   "source": []
  },
  {
   "cell_type": "code",
   "execution_count": 53,
   "id": "94daa316",
   "metadata": {},
   "outputs": [],
   "source": [
    "def validate_input(user_guess):\n",
    "    if not user_guess.isdigit():\n",
    "        print(\"Invalid input. Please try again\")\n",
    "        return False\n",
    "\n",
    "    user_guess = int(user_guess)\n",
    "    if user_guess > 100 or user_guess < 1:\n",
    "        print(\"You are out of range please try again. your guess should be between 1 and 100.\")\n",
    "        return False\n",
    "    return True"
   ]
  },
  {
   "cell_type": "code",
   "execution_count": 57,
   "id": "3ff85bb7",
   "metadata": {},
   "outputs": [
    {
     "name": "stdout",
     "output_type": "stream",
     "text": [
      "Your guess is too low please try again\n",
      "Your guess is too low please try again\n",
      "Congratulations! you guessed the correct number and your Score is: 80\n"
     ]
    }
   ],
   "source": [
    "score = 100\n",
    "while True:\n",
    "    user_guess = input(\"Guess a number between 1 and 100: \")\n",
    "    if user_guess == \"q\":\n",
    "        print(\"Thank you for platyig, Goodbye\")\n",
    "        break\n",
    "    if not validate_input(user_guess):\n",
    "        continue\n",
    "\n",
    "    user_guess = int(user_guess)\n",
    "\n",
    "    if rand_num > user_guess:\n",
    "        print(\"Your guess is too low please try again\")\n",
    "    elif rand_num < user_guess:\n",
    "        print(\"Your guess is too high please try again\")\n",
    "    else:\n",
    "        print(f\"Congratulations! you guessed the correct number and your Score is: {score}\")\n",
    "        break \n",
    "    score -= 10\n",
    "    score = max(score, 0)       "
   ]
  },
  {
   "cell_type": "code",
   "execution_count": null,
   "id": "295104af",
   "metadata": {},
   "outputs": [],
   "source": []
  },
  {
   "cell_type": "code",
   "execution_count": null,
   "id": "1a3b7f2d",
   "metadata": {},
   "outputs": [],
   "source": []
  },
  {
   "cell_type": "code",
   "execution_count": null,
   "id": "0607a8dd",
   "metadata": {},
   "outputs": [],
   "source": []
  },
  {
   "cell_type": "code",
   "execution_count": null,
   "id": "10131da3",
   "metadata": {},
   "outputs": [],
   "source": []
  },
  {
   "cell_type": "code",
   "execution_count": null,
   "id": "294c6ffe",
   "metadata": {},
   "outputs": [],
   "source": []
  }
 ],
 "metadata": {
  "kernelspec": {
   "display_name": "base",
   "language": "python",
   "name": "python3"
  },
  "language_info": {
   "codemirror_mode": {
    "name": "ipython",
    "version": 3
   },
   "file_extension": ".py",
   "mimetype": "text/x-python",
   "name": "python",
   "nbconvert_exporter": "python",
   "pygments_lexer": "ipython3",
   "version": "3.12.7"
  }
 },
 "nbformat": 4,
 "nbformat_minor": 5
}
